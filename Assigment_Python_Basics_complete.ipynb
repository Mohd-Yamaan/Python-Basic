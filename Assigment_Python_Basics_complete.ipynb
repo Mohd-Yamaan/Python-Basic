{
  "nbformat": 4,
  "nbformat_minor": 0,
  "metadata": {
    "colab": {
      "provenance": []
    },
    "kernelspec": {
      "name": "python3",
      "display_name": "Python 3"
    },
    "language_info": {
      "name": "python"
    }
  },
  "cells": [
    {
      "cell_type": "markdown",
      "source": [
        "# Theoretical Questions"
      ],
      "metadata": {
        "id": "tvdjQvcCKZZ0"
      }
    },
    {
      "cell_type": "markdown",
      "source": [
        "1.  What is Python, and why is it popular?\n",
        "\n",
        "Answer -- Python is a high-level, interpreted programming language.\n",
        "It's known for its simple, readable syntax, making it beginner-friendly.\n",
        "Python is widely used in web development, data science, AI, and automation.\n",
        "It has a vast standard library and strong community support.\n",
        "Its versatility and ease of use make it one of the most popular languages today.\n",
        "\n"
      ],
      "metadata": {
        "id": "ofBDWdoVoKG4"
      }
    },
    {
      "cell_type": "markdown",
      "source": [
        "2. What is an interpreter in Python?\n",
        "\n",
        "Answer -- An interpreter in Python is a program that reads and executes Python code line by line.\n",
        "It translates high-level Python code into machine code during runtime.\n",
        "This allows for quick testing and debugging since errors are caught immediately.\n",
        "Unlike compiled languages, no separate compilation step is needed.\n",
        "The Python interpreter manages memory, variable types, and garbage collection automatically.\n",
        "Examples include the CPython, PyPy, and Jython interpreters.\n",
        "\n",
        "\n",
        "\n",
        "\n",
        "\n",
        "\n",
        "\n",
        "\n",
        "\n"
      ],
      "metadata": {
        "id": "q1jLfZalpaj4"
      }
    },
    {
      "cell_type": "markdown",
      "source": [
        "3. What are pre-defined keywords in Python?\n",
        "\n",
        "Answer -- Pre-defined keywords in Python are reserved words with special meanings.\n",
        "They are part of the language syntax and cannot be used as variable names.\n",
        "Examples include if, else, while, for, def, and class.\n",
        "These keywords control the structure and flow of a Python program.\n",
        "Python has a fixed set of keywords defined in each version.\n",
        "\n",
        "\n",
        "\n",
        "\n",
        "\n",
        "\n",
        "\n",
        "\n",
        "\n"
      ],
      "metadata": {
        "id": "DNKcVRkap03N"
      }
    },
    {
      "cell_type": "markdown",
      "source": [
        "4. Can key words beused as  ariable names?\n",
        "\n",
        "Answer -- No, keywords cannot be used as variable names. Keywords are reserved words in programing languages that have special meaning and are used to perform specific operations. Using them as variable names would cause an error because the intepreter/compiler would not be able to distinguish between the intended use of the keyword and variable."
      ],
      "metadata": {
        "id": "pBDLpq-fqqtv"
      }
    },
    {
      "cell_type": "markdown",
      "source": [
        "5. What is Mutablityin python\n",
        "\n",
        "Answer -- Mutablity in python refer to the ability of and object to be mobified after it is created. If an object is mutable its state or value can be changed in place without creating a nwe object.  \n",
        "Conversely, if and object is immutable ,its state cannot be alter creation.. Any operation thaqt apppears to modify an immutable object actually result in the creation of a new object"
      ],
      "metadata": {
        "id": "qJPM64NL24J7"
      }
    },
    {
      "cell_type": "markdown",
      "source": [
        "6. Why are list is  mutable, but tuples are immutable?\n",
        "\n",
        "Answer -- In python , List are mutable because they are designed to store collection of items that may change buring progran exceution. You can add, remove or modify element in a list after it is creae.\n",
        "On the other hand, Tuples are immutable , meaning their eement cannot be changed once defined. this immutablity ensure data integrity and allows tuples to be used as key in dictonaried or elements of sets, which required fixed, hashable values.\n",
        "\n",
        "The difference exist due to their intended used:\n",
        "* List are used for dynamic collection whare data may need to change.\n",
        "* Tuples are used for fixed data structure , like coordinate or constant records.\n",
        "\n"
      ],
      "metadata": {
        "id": "bIf6jRNc35tk"
      }
    },
    {
      "cell_type": "markdown",
      "source": [
        " '7.What is the 'difference between \"==\" and \"is\" operators in python?\n",
        "\n",
        " Answer -- In python, == compares value of two objects, cha=ecking if they are equal. the is opecator checks object identity, verifying if two variables refer to the same memory  location (e.g., a = [1, 2,]; b = a; a is b is true ) 'After. assingment(=),== 'test content equality, hwhile is test if variables point to the same object. use == for value compriasion and is for identyfy cha=eck like x is None. For mutable objects like list, is reflected share reference post- assingment . Avoid is for general values checks due to python's object intering."
      ],
      "metadata": {
        "id": "m_8haBBh6tuU"
      }
    },
    {
      "cell_type": "markdown",
      "source": [
        "8. what are logical operators in python.\n",
        "\n",
        "Amswer -- In Python, logical operators are like simple rules you use to cmbine or check conditions. They help you make decisions in your code by evalutuing whether something is true or false . In python there are three type of logical operator AND, OR or NOT\n",
        " 1. ADD\n",
        "      * This check if both condition are true.\n",
        " 2. OR\n",
        "      * Thischeck if at least one condition is true.\n",
        " 3. NOT\n",
        "      * This flif the condition . I something is true ,it makes it false, and vice varsa."
      ],
      "metadata": {
        "id": "KyZHQ49b-PAU"
      }
    },
    {
      "cell_type": "markdown",
      "source": [
        "9. What is type casting in python?\n",
        "\n",
        "Answer -- Typecsting in python means changing the data type of a value . There are two type: Implict typecasting , where Python automatically change the data type  and Explicit typecasting. where we change it manually using function like Int(), float(), or str(). For example int(\"10\") change a string toan integer. it is useful when we want to do opetations between diference types."
      ],
      "metadata": {
        "id": "xUEkOHLmAgF1"
      }
    },
    {
      "cell_type": "markdown",
      "source": [
        "10. What is the difference between implict and explict typecasting?\n",
        "\n",
        "Answer -- the difference between The Implict and Explict type casting There are two type: Implict typecasting , where Python automatically change the data type  and Explicit typecasting. where we change it manually using function like Int(), float(), or str(). For example int(\"10\") change a string toan integer. it is useful when we want to do opetations between diference types."
      ],
      "metadata": {
        "id": "ihu6egyiBzFl"
      }
    },
    {
      "cell_type": "markdown",
      "source": [
        "11. What is the purpose of conditional statment in python?\n",
        "\n",
        "Answer -- Conditional statment are used to make a desition in a program. They check if a condition is true or false , and run code base on that . For example using if else or elif, we  can decide what should happen next. It helps the program choose different paths based on difference situable. This is useful for tasks like checking passwords, comparing numbers, or showing massages."
      ],
      "metadata": {
        "id": "Nd0PJXadC7Nd"
      }
    },
    {
      "cell_type": "markdown",
      "source": [
        "12. How dose the elif statment work?\n",
        "\n",
        "Answer -- 1. The elif statement stands for \"else if\" in Python.\n",
        "\n",
        "          2. It's used when we want to check multiple conditions.\n",
        "\n",
        "          3. Python checks the if condition first.\n",
        "\n",
        "          4. If if is false, it checks each elif in order.\n",
        "\n",
        "          5. When it finds a true condition, it runs that block and skips the rest.\n",
        "\n",
        "          6. If no conditions are true, the else block runs (if present).\n",
        "\n"
      ],
      "metadata": {
        "id": "Mpp2PaxwEZ6o"
      }
    },
    {
      "cell_type": "markdown",
      "source": [
        "13. what are the different between for and while loops?\n",
        "\n",
        "Answer -- 1. For loop is used when we know how many times we want to repeat something.\n",
        "example: if we want to print \"Python\" 10 time. we can use a FOR loop.\n",
        "\n",
        "2. While loop is ued hen we do not know exactely how many times we want to repet, but we wantto repet util a condition become false.\n",
        "            \n"
      ],
      "metadata": {
        "id": "41LViY9bGvBK"
      }
    },
    {
      "cell_type": "markdown",
      "source": [
        "14. Describe a scenario where a while loop is more sutable than a for loop\n",
        "\n",
        "Answer -- Scenario where a while loop is more suitable than a for loop:\n",
        "\n",
        "A while loop is better when we don’t know how many times we need to repeat something.\n",
        "For example, asking a user to enter the correct password:\n",
        "We use a while loop to keep asking until the user enters the right password.\n",
        "A for loop is not ideal here because we don’t know how many tries it will take.\n",
        "So, while loops are good for unknown or changing conditions.\n",
        "It stops only when the condition becomes false.\n"
      ],
      "metadata": {
        "id": "-hrPmkDxIr45"
      }
    },
    {
      "cell_type": "markdown",
      "source": [
        "# Practical Questions"
      ],
      "metadata": {
        "id": "LseOz8P2JZXZ"
      }
    },
    {
      "cell_type": "markdown",
      "source": [
        "1. write a python to print the hello word"
      ],
      "metadata": {
        "id": "GbDKQAaSK1-J"
      }
    },
    {
      "cell_type": "code",
      "source": [
        "print(\"Hello World\")"
      ],
      "metadata": {
        "colab": {
          "base_uri": "https://localhost:8080/"
        },
        "id": "wX0ZthkAK0ni",
        "outputId": "110acb55-5fb1-46f5-90ba-d8fe63f9e0db"
      },
      "execution_count": null,
      "outputs": [
        {
          "output_type": "stream",
          "name": "stdout",
          "text": [
            "Hello World\n"
          ]
        }
      ]
    },
    {
      "cell_type": "markdown",
      "source": [
        "2.Write a Python Program that dislay your name or age"
      ],
      "metadata": {
        "id": "x3L8kdOHQMci"
      }
    },
    {
      "cell_type": "code",
      "source": [
        "\n",
        "Name = \"Mohd Yamaan Rafe\"\n",
        "Age = 20\n",
        "print(\"Name:\",Name)\n",
        "print(\"Age:\", Age)"
      ],
      "metadata": {
        "colab": {
          "base_uri": "https://localhost:8080/"
        },
        "id": "0qpgOgDGQYE8",
        "outputId": "d6d47c07-3326-4093-ce64-ad2e76fb48f1"
      },
      "execution_count": null,
      "outputs": [
        {
          "output_type": "stream",
          "name": "stdout",
          "text": [
            "Name: Mohd Yamaan Rafe\n",
            "Age: 20\n"
          ]
        }
      ]
    },
    {
      "cell_type": "markdown",
      "source": [
        "3.Write a program to print all the pre defined keyword in python  using key words"
      ],
      "metadata": {
        "id": "-oKYJwpiRCI7"
      }
    },
    {
      "cell_type": "code",
      "source": [
        "import keyword\n",
        "\n",
        "keywords_list = keyword.kwlist\n",
        "\n",
        "print(keywords_list)"
      ],
      "metadata": {
        "colab": {
          "base_uri": "https://localhost:8080/"
        },
        "id": "HcPoUIQIR5sb",
        "outputId": "2249ee46-aa0a-4d44-aaa5-958098eb5e9d"
      },
      "execution_count": null,
      "outputs": [
        {
          "output_type": "stream",
          "name": "stdout",
          "text": [
            "['False', 'None', 'True', 'and', 'as', 'assert', 'async', 'await', 'break', 'class', 'continue', 'def', 'del', 'elif', 'else', 'except', 'finally', 'for', 'from', 'global', 'if', 'import', 'in', 'is', 'lambda', 'nonlocal', 'not', 'or', 'pass', 'raise', 'return', 'try', 'while', 'with', 'yield']\n"
          ]
        }
      ]
    },
    {
      "cell_type": "markdown",
      "source": [
        "4. write a program that check if a given key words is a python key words"
      ],
      "metadata": {
        "id": "EUO1OnbhSVzq"
      }
    },
    {
      "cell_type": "code",
      "source": [
        "import keyword\n",
        "\n",
        "key_word = input(\"Enter a key word: \")\n",
        "# check\n",
        "if keyword.iskeyword(key_word):\n",
        "    print(f\"{key_word} is a python key word\")\n",
        "else:\n",
        "    print(f\"{key_word} is not a python key word\")\n",
        "\n",
        "#check if the key word is a python key word"
      ],
      "metadata": {
        "colab": {
          "base_uri": "https://localhost:8080/"
        },
        "id": "riLOA27TSpi1",
        "outputId": "52582499-03ed-44e9-92ea-037bfafa6657"
      },
      "execution_count": null,
      "outputs": [
        {
          "output_type": "stream",
          "name": "stdout",
          "text": [
            "Enter a key word: elif\n",
            "elif is a python key word\n"
          ]
        }
      ]
    },
    {
      "cell_type": "markdown",
      "source": [
        "5.create a list and tupple in python , and demonstrate how attmpting to change and element works differently for each other."
      ],
      "metadata": {
        "id": "r2Pt__YrTO5s"
      }
    },
    {
      "cell_type": "code",
      "source": [
        "#creat a list\n",
        "\n",
        "my_list = [10, 20, 30, 40]\n",
        "#modify secound element\n",
        "my_list[2]= 200\n",
        "my_list\n",
        "\n",
        "mytupple = (10, 20, 30, 40)\n",
        "#modify third  element\n",
        "\n",
        "# first convern to list\n",
        "list = list(mytupple)\n",
        "list[2] = 300\n",
        "# convert back to tuple\n",
        "mytupple = tuple(list)\n",
        "mytupple\n"
      ],
      "metadata": {
        "colab": {
          "base_uri": "https://localhost:8080/"
        },
        "id": "MJqwetiPUpb0",
        "outputId": "b3823651-1d4d-49cd-9470-03f38a9708b3"
      },
      "execution_count": null,
      "outputs": [
        {
          "output_type": "execute_result",
          "data": {
            "text/plain": [
              "(10, 20, 300, 40)"
            ]
          },
          "metadata": {},
          "execution_count": 9
        }
      ]
    },
    {
      "cell_type": "markdown",
      "source": [
        "6. Write a function to demonstrate the behaviour of mutable and immutable argument"
      ],
      "metadata": {
        "id": "BhXXUWTKWO6U"
      }
    },
    {
      "cell_type": "code",
      "source": [
        "def modify_data(mutable_list, immutable_value):\n",
        "    # Modify mutable argument\n",
        "    mutable_list.append(100)\n",
        "\n",
        "    # Modify immutable argument\n",
        "    immutable_value += 10\n",
        "\n",
        "    print(\"Inside function - List:\", mutable_list)\n",
        "    print(\"Inside function - Number:\", immutable_value)\n",
        "\n",
        "# Original data\n",
        "my_list = [1, 2, 3]\n",
        "my_number = 50\n",
        "\n",
        "# Call the function\n",
        "modify_data(my_list, my_number)\n",
        "\n",
        "# Check changes outside the function\n",
        "print(\"Outside function - List:\", my_list)\n",
        "print(\"Outside function - Number:\", my_number)"
      ],
      "metadata": {
        "colab": {
          "base_uri": "https://localhost:8080/"
        },
        "id": "rx3xYCHukMrt",
        "outputId": "c0a3f462-be93-4f2c-8ae2-4f6fa17da41d"
      },
      "execution_count": null,
      "outputs": [
        {
          "output_type": "stream",
          "name": "stdout",
          "text": [
            "Inside function - List: [1, 2, 3, 100]\n",
            "Inside function - Number: 60\n",
            "Outside function - List: [1, 2, 3, 100]\n",
            "Outside function - Number: 50\n"
          ]
        }
      ]
    },
    {
      "cell_type": "markdown",
      "source": [
        "8. Write a program to demonstrate the use of logical operators.\n",
        "\n"
      ],
      "metadata": {
        "id": "9rFOIIEZcWNL"
      }
    },
    {
      "cell_type": "code",
      "source": [
        "# Define boolean variables\n",
        "a = True\n",
        "b = False\n",
        "\n",
        "print(\"Demonstrating Logical Operators\\n\")\n",
        "\n",
        "# AND operator\n",
        "print(\"a AND b:\", a and b)\n",
        "\n",
        "# OR operator\n",
        "print(\"a OR b:\", a or b)\n",
        "\n",
        "# NOT operator\n",
        "print(\"NOT a:\", not a)\n",
        "print(\"NOT b:\", not b)\n",
        "\n",
        "# Combination logical operations\n",
        "x = 5\n",
        "y = 10\n",
        "z = 15\n",
        "\n",
        "print(\"\\nUsing logical operators with comparisons:\")\n",
        "print(\"x < y and y < z:\", x < y and y < z)\n",
        "print(\"x > y or y < z:\", x > y or y < z)\n",
        "print(\"not (x < z):\", not (x < z))\n",
        "\n",
        "\n"
      ],
      "metadata": {
        "colab": {
          "base_uri": "https://localhost:8080/"
        },
        "id": "uptQ1mWLcZaT",
        "outputId": "decc5904-558c-4e63-f0d6-50c148e03ca3"
      },
      "execution_count": null,
      "outputs": [
        {
          "output_type": "stream",
          "name": "stdout",
          "text": [
            "Demonstrating Logical Operators\n",
            "\n",
            "a AND b: False\n",
            "a OR b: True\n",
            "NOT a: False\n",
            "NOT b: True\n",
            "\n",
            "Using logical operators with comparisons:\n",
            "x < y and y < z: True\n",
            "x > y or y < z: True\n",
            "not (x < z): False\n"
          ]
        }
      ]
    },
    {
      "cell_type": "markdown",
      "source": [
        "9.Write a program to convert user input from strig to integer , float, and boolean types"
      ],
      "metadata": {
        "id": "1znT_-9xY2MY"
      }
    },
    {
      "cell_type": "code",
      "source": [
        "user_input  = input( \"Enter a value; \")\n",
        "\n",
        "#convert to integer\n",
        "int_value = int(user_input)\n",
        "print(\"Integer value:\", int_value)\n",
        "\n",
        "#convert to float\n",
        "float_value = float(user_input)\n",
        "print(\"Float value:\", float_value)\n",
        "\n",
        "#convert to boolean\n",
        "boolean_value = bool(user_input)\n",
        "print(\"Boolean value:\", boolean_value)"
      ],
      "metadata": {
        "colab": {
          "base_uri": "https://localhost:8080/"
        },
        "id": "Ayzu7jGzWE-d",
        "outputId": "979862a6-d7b4-497b-c72f-7106d505e9ff"
      },
      "execution_count": null,
      "outputs": [
        {
          "output_type": "stream",
          "name": "stdout",
          "text": [
            "Enter a value; 34\n",
            "Integer value: 34\n",
            "Float value: 34.0\n",
            "Boolean value: True\n"
          ]
        }
      ]
    },
    {
      "cell_type": "markdown",
      "source": [
        "10. Write code to demonstrate type casting with list elements."
      ],
      "metadata": {
        "id": "G0D0n991dxfq"
      }
    },
    {
      "cell_type": "code",
      "source": [
        "# List of strings\n",
        "str_numbers = [\"1\", \"2\", \"3\", \"4\", \"5\"]\n",
        "\n",
        "print(\"Original list (string elements):\", str_numbers)\n",
        "\n",
        "# Convert each element to integer using list comprehension\n",
        "int_numbers = [int(num) for num in str_numbers]\n",
        "print(\"After casting to integers:\", int_numbers)\n",
        "\n",
        "# Convert integers to floats\n",
        "float_numbers = [float(num) for num in int_numbers]\n",
        "print(\"After casting to floats:\", float_numbers)\n",
        "\n",
        "# Convert floats to strings again\n",
        "str_again = [str(num) for num in float_numbers]\n",
        "print(\"After casting back to strings:\", str_again)\n"
      ],
      "metadata": {
        "colab": {
          "base_uri": "https://localhost:8080/"
        },
        "id": "MgNBwqmsdyGJ",
        "outputId": "9c09f2df-377e-4127-f3a6-6adae23a97a8"
      },
      "execution_count": null,
      "outputs": [
        {
          "output_type": "stream",
          "name": "stdout",
          "text": [
            "Original list (string elements): ['1', '2', '3', '4', '5']\n",
            "After casting to integers: [1, 2, 3, 4, 5]\n",
            "After casting to floats: [1.0, 2.0, 3.0, 4.0, 5.0]\n",
            "After casting back to strings: ['1.0', '2.0', '3.0', '4.0', '5.0']\n"
          ]
        }
      ]
    },
    {
      "cell_type": "markdown",
      "source": [
        "11. write a program that check if a number is positive ,negative or zero"
      ],
      "metadata": {
        "id": "G344SSnvcxgE"
      }
    },
    {
      "cell_type": "code",
      "source": [
        "Number = float(input(\"Enter the number: \"))\n",
        "if Number > 0:\n",
        "    print(\"Number is positive\")\n",
        "elif Number < 0:\n",
        "    print(\"Number is negative\")\n",
        "else:\n",
        "    print(\"Number is zero\")\n"
      ],
      "metadata": {
        "colab": {
          "base_uri": "https://localhost:8080/"
        },
        "id": "ppCRwzLrcw7N",
        "outputId": "76fabe9a-4753-4e6d-e102-a1b73eb3dc52"
      },
      "execution_count": null,
      "outputs": [
        {
          "output_type": "stream",
          "name": "stdout",
          "text": [
            "Enter the number: 56\n",
            "Number is positive\n"
          ]
        }
      ]
    },
    {
      "cell_type": "markdown",
      "source": [
        "12. wrie a foor loop to print number 1 to 10"
      ],
      "metadata": {
        "id": "izeCqWAkd5Y-"
      }
    },
    {
      "cell_type": "code",
      "source": [
        "n= 10\n",
        "for i in range(1, n+1):\n",
        "  print (i)"
      ],
      "metadata": {
        "colab": {
          "base_uri": "https://localhost:8080/"
        },
        "id": "yOlIaBrUeDwl",
        "outputId": "888372db-dce0-44d7-a10f-623e4e628957"
      },
      "execution_count": null,
      "outputs": [
        {
          "output_type": "stream",
          "name": "stdout",
          "text": [
            "1\n",
            "2\n",
            "3\n",
            "4\n",
            "5\n",
            "6\n",
            "7\n",
            "8\n",
            "9\n",
            "10\n"
          ]
        }
      ]
    },
    {
      "cell_type": "markdown",
      "source": [
        "13. write a python program to find teh sum of all even number between 1 to 50"
      ],
      "metadata": {
        "id": "w1jpBq9JexkW"
      }
    },
    {
      "cell_type": "code",
      "source": [
        "n = 50\n",
        "sum_even = 0\n",
        "for i in range(1, n+1):\n",
        "  if i % 2 == 0:\n",
        "    sum_even += i\n",
        "print(\"Sum of even numbers between 1 and 50:\", sum_even)\n",
        "\n"
      ],
      "metadata": {
        "colab": {
          "base_uri": "https://localhost:8080/"
        },
        "id": "VhYFcWr_fAas",
        "outputId": "ae92ce03-8823-4630-f8e2-cedb8c024f44"
      },
      "execution_count": null,
      "outputs": [
        {
          "output_type": "stream",
          "name": "stdout",
          "text": [
            "Sum of even numbers between 1 and 50: 650\n"
          ]
        }
      ]
    },
    {
      "cell_type": "markdown",
      "source": [
        "14. Write a program to reverce a string using while loop"
      ],
      "metadata": {
        "id": "qQvQs8KjgyBO"
      }
    },
    {
      "cell_type": "code",
      "source": [
        "# Input string\n",
        "text = \"Mohd Yamaan\"\n",
        "reversed_text = \"\"\n",
        "\n",
        "# Index starts from the last character\n",
        "i = len(text) - 1\n",
        "\n",
        "# Loop through the string in reverse\n",
        "while i >= 0:\n",
        "    reversed_text += text[i]\n",
        "    i -= 1\n",
        "\n",
        "# Output the reversed string\n",
        "print(\"Original string:\", text)\n",
        "print(\"Reversed string:\", reversed_text)\n"
      ],
      "metadata": {
        "colab": {
          "base_uri": "https://localhost:8080/"
        },
        "id": "BV2-eQkmloOO",
        "outputId": "39d7e4ae-20f2-47cd-e522-3f42fe6f4bf8"
      },
      "execution_count": null,
      "outputs": [
        {
          "output_type": "stream",
          "name": "stdout",
          "text": [
            "Original string: Mohd Yamaan\n",
            "Reversed string: naamaY dhoM\n"
          ]
        }
      ]
    },
    {
      "cell_type": "markdown",
      "source": [
        "15. Write a Python program to calculate the factorial of a number provided by the user using a while loop"
      ],
      "metadata": {
        "id": "x2QkECRteHQj"
      }
    },
    {
      "cell_type": "code",
      "source": [
        "num = int(input(\"Enter a non-negative integer: \"))\n",
        "\n",
        "factorial = 1\n",
        "i = 1\n",
        "\n",
        "while i <= num:\n",
        "  factorial *= i\n",
        "  i += 1\n",
        "\n",
        "print(f\"The factorial of {num} is {factorial}.\")\n"
      ],
      "metadata": {
        "colab": {
          "base_uri": "https://localhost:8080/"
        },
        "id": "ZEeQxKjBemmS",
        "outputId": "b1b5c541-c02b-4b0b-a28b-aedbf78d6b03"
      },
      "execution_count": null,
      "outputs": [
        {
          "output_type": "stream",
          "name": "stdout",
          "text": [
            "Enter a non-negative integer: 5\n",
            "The factorial of 5 is 120.\n"
          ]
        }
      ]
    },
    {
      "cell_type": "markdown",
      "source": [
        "                                                                 \n",
        "                                                                **END**"
      ],
      "metadata": {
        "id": "W1QGrU-bfciT"
      }
    }
  ]
}